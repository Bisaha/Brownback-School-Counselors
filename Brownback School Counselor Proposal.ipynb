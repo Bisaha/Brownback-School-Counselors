{
 "cells": [
  {
   "cell_type": "code",
   "execution_count": 1,
   "metadata": {
    "collapsed": true
   },
   "outputs": [],
   "source": [
    "import pandas as pd\n",
    "\n",
    "%matplotlib inline\n",
    "\n",
    "import matplotlib\n",
    "import numpy as np\n",
    "import matplotlib.pyplot as plt\n",
    "import matplotlib.ticker as mtick\n",
    "\n",
    "from sympy import *\n",
    "\n",
    "from dateutil.parser import parse"
   ]
  },
  {
   "cell_type": "markdown",
   "metadata": {},
   "source": [
    "# The Proposal"
   ]
  },
  {
   "cell_type": "markdown",
   "metadata": {},
   "source": [
    "In Governor Sam Brownback's budget proposal, he says he wants to see 150 full time school counselors and psychologists hired each year [(page 8)](http://budget.ks.gov/publications/FY2019/Director_Overview--FY2019--1-10-2018.pdf)\n",
    "\n",
    "The American School Counselor Association recommends a ratio of 250-to-1 for stduents to school counselors. The latest data available is for 2014-2015.\n",
    "\n",
    "Based on their latest [report](https://www.schoolcounselor.org/asca/media/asca/home/Ratios14-15.pdf), Kansas' ratio is 473, nearly double their recommendation. The report says there were 497,275 students to 1,051 counselors. \n",
    "\n",
    "Let's double check that nuber quickly."
   ]
  },
  {
   "cell_type": "code",
   "execution_count": 3,
   "metadata": {
    "collapsed": false
   },
   "outputs": [
    {
     "name": "stdout",
     "output_type": "stream",
     "text": [
      "473.14462416745954\n",
      "It checks out!\n"
     ]
    }
   ],
   "source": [
    "students_15 = 497275\n",
    "counselors_15 = 1051\n",
    "ratio_15 = students_15/counselors_15\n",
    "print(ratio_15)\n",
    "if round(ratio_15) == 473:\n",
    "    print (\"It checks out!\")\n",
    "else:\n",
    "    print (\"It doesn't check out!\")"
   ]
  },
  {
   "cell_type": "markdown",
   "metadata": {},
   "source": [
    "# Graphing The Proposed Increase\n",
    "\n",
    "150 new hires a year sounds like a lot -- especially considering there are only 1,051 counselors in 2015, according to the American School Counselor Association.\n",
    "\n",
    "Let's create a line graph to see what that would look like.\n",
    "\n",
    "We do have a few assumptions to make first."
   ]
  },
  {
   "cell_type": "markdown",
   "metadata": {},
   "source": [
    "## Question One: How many of the 150 counselors are psychologists?\n",
    "Unfortunately, Brownback says he wants 150 counselors AND psychologists. These are two different professions, so we can't just add an extra 150 counselors every year. \n",
    "\n",
    "So, we need to determine how many of those 150 should be counselors.\n",
    "\n",
    "I'm going to assume the state will hire counselors and psychologists based on the recommended ratio from each respective professional organization.\n",
    "\n",
    "For counselors, that's the American School Counselor Association. For school psychologists, that's the National Association of School Psychologists. They recommend between 500 and 700 students per psychologist. I'm going to take the middle number and call is 600. \n"
   ]
  },
  {
   "cell_type": "code",
   "execution_count": 4,
   "metadata": {
    "collapsed": true
   },
   "outputs": [],
   "source": [
    "counselor_ratio = 1/250\n",
    "psychologist_ratio = 1/600"
   ]
  },
  {
   "cell_type": "markdown",
   "metadata": {},
   "source": [
    "### Now for some math\n",
    "\n",
    "The problem again: how many of the 150 hires should be psychologists and how many should be counselors?\n",
    "\n",
    "To do this, we need some algebra. \n",
    "\n",
    "#### x \\* counselor_ratio + x \\* psychologist_ratio = 150\n",
    "\n",
    "Once we've solved for x:\n",
    "\n",
    "#### x * counselor_ratio = number of hires\n",
    "\n",
    "The python code below will execute this. "
   ]
  },
  {
   "cell_type": "code",
   "execution_count": 5,
   "metadata": {
    "collapsed": false
   },
   "outputs": [
    {
     "data": {
      "text/plain": [
       "106"
      ]
     },
     "execution_count": 5,
     "metadata": {},
     "output_type": "execute_result"
    }
   ],
   "source": [
    "x = Symbol('x')\n",
    "\n",
    "variable = solveset(Eq(x*counselor_ratio+x*psychologist_ratio, 150),x)\n",
    "variable = next(iter(variable))\n",
    "number_of_counselors = round(counselor_ratio*variable)\n",
    "number_of_counselors"
   ]
  },
  {
   "cell_type": "markdown",
   "metadata": {},
   "source": [
    "We still have to make a few more assumptions.\n",
    "\n",
    "I'm taking my data from [KSDE's data central](http://datacentral.ksde.org/report_gen.aspx). In this report, I looked at public schools and the \"certified personnel by personnel type.\" I took the number of counselors for each school year and I created a csv file called \"ksde_staff_numbers.csv.\" \n",
    "\n",
    "I'll be adding a line to my graph for how many counselors the state needs to hit the 250 ratio. For this, I'll be using the enrollment number from the KSDE. Note that it does have slightly different enrollment numbers than American School Council Association provided in this (graph)[https://www.schoolcounselor.org/asca/media/asca/home/Ratios14-15.pdf].\n",
    "\n",
    "I'm working under the assumption enrollment growth will remain flat from now until 2023. There is likely to be some change, but not enough to really affect the ratio. I'm basing this assumption on this [Kansas Association of School Board report](https://kasb.org/wp-content/uploads/2016/12/2017_KASB_Enrollment_Projection_Report.pdf)."
   ]
  },
  {
   "cell_type": "code",
   "execution_count": 7,
   "metadata": {
    "collapsed": true
   },
   "outputs": [],
   "source": [
    "ksde_headcount_2017 = 489795"
   ]
  },
  {
   "cell_type": "markdown",
   "metadata": {},
   "source": [
    "I'll be making a projected line based on Kansas adding 106 school counselors each year and not losing any."
   ]
  },
  {
   "cell_type": "code",
   "execution_count": 10,
   "metadata": {
    "collapsed": false
   },
   "outputs": [
    {
     "data": {
      "image/png": "[encoded data removed]",
      "text/plain": [
       "<matplotlib.figure.Figure at 0x1088136a0>"
      ]
     },
     "metadata": {},
     "output_type": "display_data"
    }
   ],
   "source": [
    "number_of_psychologists = round(psychologist_ratio*variable)\n",
    "\n",
    "\n",
    "def project_counselors(year):\n",
    "    return ((year - 2017)*number_of_counselors) + staff[\"counselors\"][0]\n",
    "def project_psychologists(year):\n",
    "    return ((year - 2017)*number_of_psychologists) + staff[\"psychologists\"][0]\n",
    "\n",
    "\n",
    "staff = pd.read_csv(\"ksde_staff_numbers.csv\")\n",
    "\n",
    "\n",
    "append_dicts = [\n",
    "    {\n",
    "        \"year\":2018,\n",
    "        \"counselors\":project_counselors(2018),\n",
    "        \"psychologists\":project_psychologists(2018),\n",
    "    },\n",
    "    {\n",
    "        \"year\":2019,\n",
    "        \"counselors\":project_counselors(2019),\n",
    "        \"psychologists\":project_psychologists(2019),\n",
    "    },\n",
    "    {\n",
    "        \"year\":2020,\n",
    "        \"counselors\":project_counselors(2020),\n",
    "        \"psychologists\":project_psychologists(2020),\n",
    "    },\n",
    "    {\n",
    "        \"year\":2021,\n",
    "        \"counselors\":project_counselors(2021),\n",
    "        \"psychologists\":project_psychologists(2021),\n",
    "    },\n",
    "    {\n",
    "        \"year\":2022,\n",
    "        \"counselors\":project_counselors(2022),\n",
    "        \"psychologists\":project_psychologists(2022),\n",
    "    },\n",
    "    {\n",
    "        \"year\":2023,\n",
    "        \"counselors\":project_counselors(2023),\n",
    "        \"psychologists\":project_psychologists(2023),\n",
    "    },\n",
    "\n",
    "\n",
    "]\n",
    "\n",
    "staff = pd.read_csv(\"ksde_staff_numbers.csv\")\n",
    "staff = staff.append(append_dicts)\n",
    "staff\n",
    "staff[\"datetime\"] = staff[\"year\"].apply(str).apply(parse)\n",
    "staff = staff.set_index(\"datetime\")\n",
    "\n",
    "ksde_headcount_2017 = 489795\n",
    "idea_ratio_employment = ksde_headcount_2017/250\n",
    "\n",
    "\n",
    "fig, ax = plt.subplots()\n",
    "\n",
    "staff_past = staff[staff[\"year\"]<2018]\n",
    "staff_projected = staff[staff[\"year\"]>2017]\n",
    "\n",
    "\n",
    "\n",
    "ax.plot(staff_past.index,staff_past[\"counselors\"],color=\"#307FE2\",linewidth=3)\n",
    "ax.plot(staff_projected.index,staff_projected[\"counselors\"],color=\"#307FE2\",linewidth=3,linestyle=':')\n",
    "\n",
    "ax.set_ylim(0,2100)\n",
    "#ax1.legend(False)\n",
    "ax.spines['top'].set_visible(False)\n",
    "ax.spines['right'].set_visible(False)\n",
    "\n",
    "ax.grid(which='major', linestyle=':',alpha=.3)\n",
    "ax.set_title(\"\")\n",
    "\n",
    "ax.axhline(y=idea_ratio_employment, xmin=0,xmax=1, color=\"purple\",alpha=.6)\n",
    "#ayvline(x=84.1, ymin=0, ymax=1,color=\"black\",alpha=.6)\n",
    "\n",
    "\n",
    "\n",
    "\n",
    "\n",
    "\n",
    "#fmt = '${x:.0f}'\n",
    "#tick = mtick.StrMethodFormatter(fmt)\n",
    "#ax.yaxis.set_major_formatter(tick)\n",
    "ax.tick_params(which='both', # Options for both major and minor ticks\n",
    "            top='off', # turn off top ticks\n",
    "            left='off', # turn off left ticks\n",
    "            right='off',  # turn off right ticks\n",
    "            bottom='on') # turn off bottom ticks"
   ]
  },
  {
   "cell_type": "code",
   "execution_count": null,
   "metadata": {
    "collapsed": true
   },
   "outputs": [],
   "source": []
  }
 ],
 "metadata": {
  "kernelspec": {
   "display_name": "Python 3",
   "language": "python",
   "name": "python3"
  },
  "language_info": {
   "codemirror_mode": {
    "name": "ipython",
    "version": 3
   },
   "file_extension": ".py",
   "mimetype": "text/x-python",
   "name": "python",
   "nbconvert_exporter": "python",
   "pygments_lexer": "ipython3",
   "version": "3.5.1"
  }
 },
 "nbformat": 4,
 "nbformat_minor": 2
}
