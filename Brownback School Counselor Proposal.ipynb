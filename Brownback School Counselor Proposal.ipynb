{
 "cells": [
  {
   "cell_type": "code",
   "execution_count": 29,
   "metadata": {
    "collapsed": true
   },
   "outputs": [],
   "source": [
    "import pandas as pd\n",
    "\n",
    "%matplotlib inline\n",
    "\n",
    "import matplotlib\n",
    "import numpy as np\n",
    "import matplotlib.pyplot as plt\n",
    "import matplotlib.ticker as mtick\n",
    "\n",
    "from sympy import *\n",
    "\n",
    "from dateutil.parser import parse"
   ]
  },
  {
   "cell_type": "markdown",
   "metadata": {},
   "source": [
    "# The Proposal"
   ]
  },
  {
   "cell_type": "markdown",
   "metadata": {},
   "source": [
    "In Governor Sam Brownback's budget proposal, he says he wants to see 150 full time school counselors and psychologists hired each year [(page 8)](http://budget.ks.gov/publications/FY2019/Director_Overview--FY2019--1-10-2018.pdf)\n",
    "\n",
    "The American School Counselor Association recommends a ratio of 250-to-1 for stduents to school counselors. The latest data available is for 2014-2015.\n",
    "\n",
    "Based on their latest [report](https://www.schoolcounselor.org/asca/media/asca/home/Ratios14-15.pdf), Kansas' ratio is 473, nearly double their recommendation. The report says there were 497,275 students to 1,051 counselors. \n",
    "\n",
    "Let's double check that nuber quickly."
   ]
  },
  {
   "cell_type": "code",
   "execution_count": 30,
   "metadata": {
    "collapsed": false
   },
   "outputs": [
    {
     "name": "stdout",
     "output_type": "stream",
     "text": [
      "473.14462416745954\n",
      "It checks out!\n"
     ]
    }
   ],
   "source": [
    "students_15 = 497275\n",
    "counselors_15 = 1051\n",
    "ratio_15 = students_15/counselors_15\n",
    "print(ratio_15)\n",
    "if round(ratio_15) == 473:\n",
    "    print (\"It checks out!\")\n",
    "else:\n",
    "    print (\"It doesn't check out!\")"
   ]
  },
  {
   "cell_type": "markdown",
   "metadata": {},
   "source": [
    "# Graphing The Proposed Increase\n",
    "\n",
    "150 new hires a year sounds like a lot -- especially considering there are only 1,051 counselors in 2015, according to the American School Counselor Association.\n",
    "\n",
    "Let's create a line graph to see what that would look like.\n",
    "\n",
    "We do have a few assumptions to make first."
   ]
  },
  {
   "cell_type": "markdown",
   "metadata": {},
   "source": [
    "## How many of the 150 counselors are psychologists?\n",
    "Unfortunately, Brownback says he wants 150 counselors AND psychologists. These are two different professions, so we can't just add an extra 150 counselors every year. \n",
    "\n",
    "So, we need to determine how many of those 150 should be counselors.\n",
    "\n",
    "I'm going to assume the state will hire counselors and psychologists based on the recommended ratio from each respective professional organization.\n",
    "\n",
    "For counselors, that's the American School Counselor Association. For school psychologists, that's the National Association of School Psychologists. They recommend between 500 and 700 students per psychologist. I'm going to take the middle number and call is 600. \n"
   ]
  },
  {
   "cell_type": "code",
   "execution_count": 31,
   "metadata": {
    "collapsed": true
   },
   "outputs": [],
   "source": [
    "counselor_ratio = 1/250\n",
    "psychologist_ratio = 1/600"
   ]
  },
  {
   "cell_type": "markdown",
   "metadata": {},
   "source": [
    "### Now for some math\n",
    "\n",
    "The problem again: how many of the 150 hires should be psychologists and how many should be counselors?\n",
    "\n",
    "To do this, we need some algebra. \n",
    "\n",
    "#### x \\* counselor_ratio + x \\* psychologist_ratio = 150\n",
    "\n",
    "Once we've solved for x:\n",
    "\n",
    "#### x * counselor_ratio = number of hires\n",
    "\n",
    "The python code below will execute this. "
   ]
  },
  {
   "cell_type": "code",
   "execution_count": 32,
   "metadata": {
    "collapsed": false
   },
   "outputs": [
    {
     "data": {
      "text/plain": [
       "106"
      ]
     },
     "execution_count": 32,
     "metadata": {},
     "output_type": "execute_result"
    }
   ],
   "source": [
    "x = Symbol('x')\n",
    "\n",
    "variable = solveset(Eq(x*counselor_ratio+x*psychologist_ratio, 150),x)\n",
    "variable = next(iter(variable))\n",
    "number_of_counselors = round(counselor_ratio*variable)\n",
    "number_of_counselors"
   ]
  },
  {
   "cell_type": "markdown",
   "metadata": {},
   "source": [
    "We still have to make a few more assumptions.\n",
    "\n",
    "I'm taking my data from [KSDE's data central](http://datacentral.ksde.org/report_gen.aspx). In this report, I looked at public schools and the \"certified personnel by personnel type.\" I took the number of counselors for each school year and I created a csv file called \"ksde_staff_numbers.csv.\" \n",
    "\n",
    "I'll be adding a line to my graph for how many counselors the state needs to hit the 250 ratio. For this, I'll be using the enrollment number from the KSDE. Note that it does have slightly different enrollment numbers than American School Council Association provided in this (graph)[https://www.schoolcounselor.org/asca/media/asca/home/Ratios14-15.pdf].\n",
    "\n",
    "I'm working under the assumption enrollment growth will remain flat from now until 2023. There is likely to be some change, but not enough to really affect the ratio. I'm basing this assumption on this [Kansas Association of School Board report](https://kasb.org/wp-content/uploads/2016/12/2017_KASB_Enrollment_Projection_Report.pdf)."
   ]
  },
  {
   "cell_type": "code",
   "execution_count": 33,
   "metadata": {
    "collapsed": true
   },
   "outputs": [],
   "source": [
    "ksde_headcount_2017 = 489795"
   ]
  },
  {
   "cell_type": "markdown",
   "metadata": {},
   "source": [
    "I'll be making a projected line based on Kansas adding 106 school counselors each year and not losing any."
   ]
  },
  {
   "cell_type": "code",
   "execution_count": 34,
   "metadata": {
    "collapsed": false,
    "scrolled": true
   },
   "outputs": [
    {
     "data": {
      "image/png": "[encoded data removed]",
      "text/plain": [
       "<matplotlib.figure.Figure at 0x10a367ba8>"
      ]
     },
     "metadata": {},
     "output_type": "display_data"
    }
   ],
   "source": [
    "number_of_psychologists = round(psychologist_ratio*variable)\n",
    "\n",
    "\n",
    "def project_counselors(year):\n",
    "    return ((year - 2017)*number_of_counselors) + staff[\"counselors\"][0]\n",
    "def project_psychologists(year):\n",
    "    return ((year - 2017)*number_of_psychologists) + staff[\"psychologists\"][0]\n",
    "\n",
    "\n",
    "staff = pd.read_csv(\"ksde_staff_numbers.csv\")\n",
    "\n",
    "\n",
    "append_dicts = [\n",
    "    {\n",
    "        \"year\":2018,\n",
    "        \"counselors\":project_counselors(2018),\n",
    "        \"psychologists\":project_psychologists(2018),\n",
    "    },\n",
    "    {\n",
    "        \"year\":2019,\n",
    "        \"counselors\":project_counselors(2019),\n",
    "        \"psychologists\":project_psychologists(2019),\n",
    "    },\n",
    "    {\n",
    "        \"year\":2020,\n",
    "        \"counselors\":project_counselors(2020),\n",
    "        \"psychologists\":project_psychologists(2020),\n",
    "    },\n",
    "    {\n",
    "        \"year\":2021,\n",
    "        \"counselors\":project_counselors(2021),\n",
    "        \"psychologists\":project_psychologists(2021),\n",
    "    },\n",
    "    {\n",
    "        \"year\":2022,\n",
    "        \"counselors\":project_counselors(2022),\n",
    "        \"psychologists\":project_psychologists(2022),\n",
    "    },\n",
    "    {\n",
    "        \"year\":2023,\n",
    "        \"counselors\":project_counselors(2023),\n",
    "        \"psychologists\":project_psychologists(2023),\n",
    "    },\n",
    "\n",
    "\n",
    "]\n",
    "\n",
    "staff = pd.read_csv(\"ksde_staff_numbers.csv\")\n",
    "staff = staff.append(append_dicts)\n",
    "staff\n",
    "staff[\"datetime\"] = staff[\"year\"].apply(str).apply(parse)\n",
    "staff = staff.set_index(\"datetime\")\n",
    "\n",
    "ksde_headcount_2017 = 489795\n",
    "idea_ratio_employment = ksde_headcount_2017/250\n",
    "\n",
    "\n",
    "fig, ax = plt.subplots()\n",
    "\n",
    "staff_past = staff[staff[\"year\"]<2018]\n",
    "staff_projected = staff[staff[\"year\"]>2016]\n",
    "\n",
    "\n",
    "\n",
    "ax.plot(staff_past.index,staff_past[\"counselors\"],color=\"purple\",linewidth=3)\n",
    "ax.plot(staff_projected.index,staff_projected[\"counselors\"],color=\"purple\",linewidth=3,linestyle=':')\n",
    "\n",
    "ax.set_ylim(0,2100)\n",
    "#ax1.legend(False)\n",
    "ax.spines['top'].set_visible(False)\n",
    "ax.spines['right'].set_visible(False)\n",
    "\n",
    "ax.grid(which='major', linestyle=':',alpha=.3)\n",
    "ax.set_title(\"\")\n",
    "\n",
    "ax.axhline(y=idea_ratio_employment, xmin=0,xmax=1, color=\"#307FE2\",alpha=.6)\n",
    "#ayvline(x=84.1, ymin=0, ymax=1,color=\"black\",alpha=.6)\n",
    "\n",
    "\n",
    "\n",
    "\n",
    "\n",
    "\n",
    "#fmt = '${x:.0f}'\n",
    "#tick = mtick.StrMethodFormatter(fmt)\n",
    "#ax.yaxis.set_major_formatter(tick)\n",
    "ax.tick_params(which='both', # Options for both major and minor ticks\n",
    "            top='off', # turn off top ticks\n",
    "            left='off', # turn off left ticks\n",
    "            right='off',  # turn off right ticks\n",
    "            bottom='on') # turn off bottom ticks"
   ]
  },
  {
   "cell_type": "markdown",
   "metadata": {
    "collapsed": true
   },
   "source": [
    "# Graphic: 2014-2015 Ratio\n",
    "This graph is based on the [American School Counselor Association's Student-to-School-Counselor Ratio 2014-2015](https://www.schoolcounselor.org/asca/media/asca/home/Ratios14-15.pdf).\n",
    "\n",
    "I used the program [Tabula](http://tabula.technology/) to extra the data from the PDF and created a clean csv called \"tabula-Ratios14-15-cleaned.csv.\"\n",
    "\n"
   ]
  },
  {
   "cell_type": "code",
   "execution_count": 35,
   "metadata": {
    "collapsed": false
   },
   "outputs": [
    {
     "data": {
      "image/png": "[encoded data removed]",
      "text/plain": [
       "<matplotlib.figure.Figure at 0x10a35ba90>"
      ]
     },
     "metadata": {},
     "output_type": "display_data"
    }
   ],
   "source": [
    "df = pd.read_csv(\"tabula-Ratios14-15-cleaned.csv\")\n",
    "df[\"ratio\"] = round(df[\"students\"]/df[\"counselors\"],0).apply(int)\n",
    "df = df.sort_values(\"ratio\")\n",
    "df = df.set_index(\"State\")\n",
    "df = df.drop(\"United States\")\n",
    "\n",
    "def get_colors(item):\n",
    "    if item < 250:\n",
    "        return '#4f78d6'\n",
    "    elif item < 482:\n",
    "        return \"purple\"\n",
    "    else:\n",
    "        return '#e03c31'\n",
    "    \n",
    "df[\"colors\"] = df[\"ratio\"].apply(get_colors)\n",
    "        \n",
    "\n",
    "\n",
    "matplotlib.rcParams['font.sans-serif'] = \"Arial\"\n",
    "matplotlib.rcParams.update({'font.size': 12})\n",
    "\n",
    "data = df[\"ratio\"]\n",
    "fig, ax = plt.subplots(figsize=(12,10))\n",
    "\n",
    "#ax.bar(data)\n",
    "\n",
    "#colors=['#4f78d6' if row.ratio < 250 elif \"purple\" if row.ratio < 482 else '#4f78d6' for name,row in df.iterrows()]\n",
    "data.plot(kind=\"barh\",ax=ax,color=df[\"colors\"])\n",
    "\n",
    "\n",
    "#data.plot(kind=\"barh\",ax=ax,color=df['Colors'].apply(lambda x: colors[x]))\n",
    "\n",
    "ax.spines['top'].set_visible(False)\n",
    "ax.spines['right'].set_visible(False)\n",
    "ax.grid(which='major',axis=\"y\", linestyle='-',alpha=0)\n",
    "\n",
    "ax.grid(which='major',axis=\"x\", linestyle='-',alpha=.2)\n",
    "\n",
    "\n",
    "ax.set_title(\"Kansas' Student To Counselor Ratio Is Slightly Better Than The National Average\\n But Much Worse Than Recommended \")\n",
    "#fmt = '{x:.0f}%'\n",
    "#tick = mtick.StrMethodFormatter(fmt)\n",
    "#ax.xaxis.set_major_formatter(tick)\n",
    "ax.tick_params(which='both', # Options for both major and minor ticks\n",
    "            top='off', # turn off top ticks\n",
    "            left='off', # turn off left ticks\n",
    "            right='off',  # turn off right ticks\n",
    "            bottom='off') # turn off bottom ticks\n",
    "#ax.get_yaxis().set_visible(False)\n",
    "ax.xaxis.set_ticks([100, 250, 400, 482, 550, 700, 850])\n",
    "ax.axvline(x=250, ymin=0, ymax=1,color=\"purple\",alpha=.6)\n",
    "ax.axvline(x=482, ymin=0, ymax=1,color=\"#e03c31\",alpha=.6)\n",
    "\n",
    "ax.set_ylabel(\"\")\n",
    "\n",
    "plt.savefig(\"Kansas Graduation Rate.pdf\")"
   ]
  },
  {
   "cell_type": "code",
   "execution_count": 36,
   "metadata": {
    "collapsed": false,
    "scrolled": false
   },
   "outputs": [
    {
     "data": {
      "text/html": [
       "<div>\n",
       "<table border=\"1\" class=\"dataframe\">\n",
       "  <thead>\n",
       "    <tr style=\"text-align: right;\">\n",
       "      <th></th>\n",
       "      <th>year</th>\n",
       "      <th>psychologists</th>\n",
       "      <th>counselors</th>\n",
       "    </tr>\n",
       "    <tr>\n",
       "      <th>datetime</th>\n",
       "      <th></th>\n",
       "      <th></th>\n",
       "      <th></th>\n",
       "    </tr>\n",
       "  </thead>\n",
       "  <tbody>\n",
       "    <tr>\n",
       "      <th>2007-01-16</th>\n",
       "      <td>2007</td>\n",
       "      <td>369.5</td>\n",
       "      <td>1140.0</td>\n",
       "    </tr>\n",
       "    <tr>\n",
       "      <th>2008-01-16</th>\n",
       "      <td>2008</td>\n",
       "      <td>372.3</td>\n",
       "      <td>1138.1</td>\n",
       "    </tr>\n",
       "    <tr>\n",
       "      <th>2009-01-16</th>\n",
       "      <td>2009</td>\n",
       "      <td>387.0</td>\n",
       "      <td>1169.9</td>\n",
       "    </tr>\n",
       "    <tr>\n",
       "      <th>2010-01-16</th>\n",
       "      <td>2010</td>\n",
       "      <td>336.3</td>\n",
       "      <td>1136.2</td>\n",
       "    </tr>\n",
       "    <tr>\n",
       "      <th>2011-01-16</th>\n",
       "      <td>2011</td>\n",
       "      <td>386.7</td>\n",
       "      <td>1085.1</td>\n",
       "    </tr>\n",
       "    <tr>\n",
       "      <th>2012-01-16</th>\n",
       "      <td>2012</td>\n",
       "      <td>398.8</td>\n",
       "      <td>1070.5</td>\n",
       "    </tr>\n",
       "    <tr>\n",
       "      <th>2013-01-16</th>\n",
       "      <td>2013</td>\n",
       "      <td>405.7</td>\n",
       "      <td>1092.0</td>\n",
       "    </tr>\n",
       "    <tr>\n",
       "      <th>2014-01-16</th>\n",
       "      <td>2014</td>\n",
       "      <td>416.2</td>\n",
       "      <td>1111.8</td>\n",
       "    </tr>\n",
       "    <tr>\n",
       "      <th>2015-01-16</th>\n",
       "      <td>2015</td>\n",
       "      <td>389.3</td>\n",
       "      <td>1134.3</td>\n",
       "    </tr>\n",
       "    <tr>\n",
       "      <th>2016-01-16</th>\n",
       "      <td>2016</td>\n",
       "      <td>400.5</td>\n",
       "      <td>1123.9</td>\n",
       "    </tr>\n",
       "    <tr>\n",
       "      <th>2017-01-16</th>\n",
       "      <td>2017</td>\n",
       "      <td>375.6</td>\n",
       "      <td>1126.7</td>\n",
       "    </tr>\n",
       "    <tr>\n",
       "      <th>2018-01-16</th>\n",
       "      <td>2018</td>\n",
       "      <td>413.5</td>\n",
       "      <td>1246.0</td>\n",
       "    </tr>\n",
       "    <tr>\n",
       "      <th>2019-01-16</th>\n",
       "      <td>2019</td>\n",
       "      <td>457.5</td>\n",
       "      <td>1352.0</td>\n",
       "    </tr>\n",
       "    <tr>\n",
       "      <th>2020-01-16</th>\n",
       "      <td>2020</td>\n",
       "      <td>501.5</td>\n",
       "      <td>1458.0</td>\n",
       "    </tr>\n",
       "    <tr>\n",
       "      <th>2021-01-16</th>\n",
       "      <td>2021</td>\n",
       "      <td>545.5</td>\n",
       "      <td>1564.0</td>\n",
       "    </tr>\n",
       "    <tr>\n",
       "      <th>2022-01-16</th>\n",
       "      <td>2022</td>\n",
       "      <td>589.5</td>\n",
       "      <td>1670.0</td>\n",
       "    </tr>\n",
       "    <tr>\n",
       "      <th>2023-01-16</th>\n",
       "      <td>2023</td>\n",
       "      <td>633.5</td>\n",
       "      <td>1776.0</td>\n",
       "    </tr>\n",
       "  </tbody>\n",
       "</table>\n",
       "</div>"
      ],
      "text/plain": [
       "            year  psychologists  counselors\n",
       "datetime                                   \n",
       "2007-01-16  2007          369.5      1140.0\n",
       "2008-01-16  2008          372.3      1138.1\n",
       "2009-01-16  2009          387.0      1169.9\n",
       "2010-01-16  2010          336.3      1136.2\n",
       "2011-01-16  2011          386.7      1085.1\n",
       "2012-01-16  2012          398.8      1070.5\n",
       "2013-01-16  2013          405.7      1092.0\n",
       "2014-01-16  2014          416.2      1111.8\n",
       "2015-01-16  2015          389.3      1134.3\n",
       "2016-01-16  2016          400.5      1123.9\n",
       "2017-01-16  2017          375.6      1126.7\n",
       "2018-01-16  2018          413.5      1246.0\n",
       "2019-01-16  2019          457.5      1352.0\n",
       "2020-01-16  2020          501.5      1458.0\n",
       "2021-01-16  2021          545.5      1564.0\n",
       "2022-01-16  2022          589.5      1670.0\n",
       "2023-01-16  2023          633.5      1776.0"
      ]
     },
     "execution_count": 36,
     "metadata": {},
     "output_type": "execute_result"
    }
   ],
   "source": [
    "staff[]"
   ]
  },
  {
   "cell_type": "code",
   "execution_count": 40,
   "metadata": {
    "collapsed": false
   },
   "outputs": [
    {
     "data": {
      "text/plain": [
       "0.576284725303985"
      ]
     },
     "execution_count": 40,
     "metadata": {},
     "output_type": "execute_result"
    }
   ],
   "source": [
    "(1776-1126.7)/1126.7"
   ]
  },
  {
   "cell_type": "code",
   "execution_count": 41,
   "metadata": {
    "collapsed": false
   },
   "outputs": [
    {
     "data": {
      "text/plain": [
       "649.3"
      ]
     },
     "execution_count": 41,
     "metadata": {},
     "output_type": "execute_result"
    }
   ],
   "source": [
    "1776-1126.7"
   ]
  },
  {
   "cell_type": "code",
   "execution_count": null,
   "metadata": {
    "collapsed": true
   },
   "outputs": [],
   "source": []
  }
 ],
 "metadata": {
  "kernelspec": {
   "display_name": "Python 3",
   "language": "python",
   "name": "python3"
  },
  "language_info": {
   "codemirror_mode": {
    "name": "ipython",
    "version": 3
   },
   "file_extension": ".py",
   "mimetype": "text/x-python",
   "name": "python",
   "nbconvert_exporter": "python",
   "pygments_lexer": "ipython3",
   "version": "3.5.1"
  }
 },
 "nbformat": 4,
 "nbformat_minor": 2
}
